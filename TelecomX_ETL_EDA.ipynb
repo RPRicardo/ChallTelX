{
 "cells": [
  {
   "cell_type": "markdown",
   "id": "6ebe2cae",
   "metadata": {},
   "source": [
    "## 📌 Extracción"
   ]
  },
  {
   "cell_type": "code",
   "execution_count": null,
   "id": "47ea854d",
   "metadata": {},
   "outputs": [],
   "source": [
    "\n",
    "import pandas as pd\n",
    "import requests\n",
    "\n",
    "# URL del JSON en GitHub (versión RAW)\n",
    "url = \"https://raw.githubusercontent.com/ingridcristh/challenge2-data-science-LATAM/main/TelecomX_Data.json\"\n",
    "\n",
    "# Descarga y carga de datos\n",
    "resp = requests.get(url)\n",
    "resp.raise_for_status()\n",
    "data = resp.json()\n",
    "\n",
    "# Si es un dict con clave 'data', úsala\n",
    "if isinstance(data, dict):\n",
    "    data = data.get('data', data)\n",
    "\n",
    "df = pd.json_normalize(data)\n",
    "df.head()\n"
   ]
  },
  {
   "cell_type": "markdown",
   "id": "fe8d4b73",
   "metadata": {},
   "source": [
    "## 🔧 Transformación"
   ]
  },
  {
   "cell_type": "code",
   "execution_count": null,
   "id": "b71614c0",
   "metadata": {},
   "outputs": [],
   "source": [
    "\n",
    "# Copia de trabajo\n",
    "df_clean = df.copy()\n",
    "\n",
    "# Normalizar nombres de columnas\n",
    "df_clean.columns = [c.strip().lower().replace(\" \", \"_\") for c in df_clean.columns]\n",
    "\n",
    "# Conversión numérica donde sea posible\n",
    "for col in df_clean.columns:\n",
    "    if df_clean[col].dtype == object:\n",
    "        try:\n",
    "            df_clean[col] = pd.to_numeric(df_clean[col])\n",
    "        except:\n",
    "            pass\n",
    "\n",
    "# Conversión de fechas si aplicable\n",
    "for col in df_clean.columns:\n",
    "    if any(k in col for k in [\"date\", \"fecha\", \"start\", \"end\"]):\n",
    "        df_clean[col] = pd.to_datetime(df_clean[col], errors=\"coerce\")\n",
    "\n",
    "df_clean.head()\n"
   ]
  },
  {
   "cell_type": "markdown",
   "id": "4be0dfe3",
   "metadata": {},
   "source": [
    "## 📊 Carga y análisis"
   ]
  },
  {
   "cell_type": "code",
   "execution_count": null,
   "id": "814c282a",
   "metadata": {},
   "outputs": [],
   "source": [
    "\n",
    "import matplotlib.pyplot as plt\n",
    "\n",
    "# Resumen rápido\n",
    "print(\"Filas:\", len(df_clean))\n",
    "print(\"Columnas:\", df_clean.shape[1])\n",
    "print(df_clean.describe(include='all'))\n",
    "\n",
    "# Ejemplo: histograma de una variable numérica\n",
    "num_cols = df_clean.select_dtypes(include='number').columns[:5]\n",
    "for col in num_cols:\n",
    "    df_clean[col].dropna().plot(kind='hist', bins=20, title=f\"Histograma: {col}\")\n",
    "    plt.xlabel(col)\n",
    "    plt.show()\n",
    "\n",
    "# Guardar CSV limpio\n",
    "df_clean.to_csv(\"telecomx_clean.csv\", index=False)\n"
   ]
  },
  {
   "cell_type": "markdown",
   "id": "d43124f7",
   "metadata": {},
   "source": [
    "## 📄 Informe final"
   ]
  },
  {
   "cell_type": "code",
   "execution_count": null,
   "id": "4a119c47",
   "metadata": {},
   "outputs": [],
   "source": [
    "\n",
    "# Ejemplo de insights automáticos simples\n",
    "nulos_prom = df_clean.isna().mean().mean() * 100\n",
    "print(f\"Promedio de valores nulos: {nulos_prom:.2f}%\")\n",
    "\n",
    "# Intentar detectar churn\n",
    "target_col = [c for c in df_clean.columns if 'churn' in c or 'cancel' in c]\n",
    "print(\"Posibles columnas objetivo:\", target_col)\n",
    "\n",
    "# Aquí puedes añadir análisis específicos y exportar resultados\n",
    "df_clean.describe().to_csv(\"resumen_estadistico.csv\")\n"
   ]
  }
 ],
 "metadata": {},
 "nbformat": 4,
 "nbformat_minor": 5
}
